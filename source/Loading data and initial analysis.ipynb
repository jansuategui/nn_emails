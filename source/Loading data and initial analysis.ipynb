{
 "cells": [
  {
   "cell_type": "code",
   "execution_count": 2,
   "metadata": {},
   "outputs": [],
   "source": [
    "from load_data import *\n",
    "from collections import Counter\n",
    "import email\n",
    "import string\n",
    "from datetime import datetime"
   ]
  },
  {
   "cell_type": "code",
   "execution_count": 3,
   "metadata": {
    "scrolled": true
   },
   "outputs": [],
   "source": [
    "df = load_data()"
   ]
  },
  {
   "cell_type": "code",
   "execution_count": 4,
   "metadata": {},
   "outputs": [
    {
     "data": {
      "text/plain": [
       "(517401, 4)"
      ]
     },
     "execution_count": 4,
     "metadata": {},
     "output_type": "execute_result"
    }
   ],
   "source": [
    "df.shape"
   ]
  },
  {
   "cell_type": "code",
   "execution_count": 27,
   "metadata": {
    "scrolled": false
   },
   "outputs": [
    {
     "data": {
      "text/html": [
       "<div>\n",
       "<style scoped>\n",
       "    .dataframe tbody tr th:only-of-type {\n",
       "        vertical-align: middle;\n",
       "    }\n",
       "\n",
       "    .dataframe tbody tr th {\n",
       "        vertical-align: top;\n",
       "    }\n",
       "\n",
       "    .dataframe thead th {\n",
       "        text-align: right;\n",
       "    }\n",
       "</style>\n",
       "<table border=\"1\" class=\"dataframe\">\n",
       "  <thead>\n",
       "    <tr style=\"text-align: right;\">\n",
       "      <th></th>\n",
       "      <th>Date</th>\n",
       "      <th>From</th>\n",
       "      <th>To</th>\n",
       "      <th>content</th>\n",
       "    </tr>\n",
       "  </thead>\n",
       "  <tbody>\n",
       "    <tr>\n",
       "      <td>0</td>\n",
       "      <td>2001-05-14 16:39:00-07:00</td>\n",
       "      <td>phillip.allen@enron.com</td>\n",
       "      <td>[tim.belden@enron.com]</td>\n",
       "      <td>Here is our forecast\\n\\n</td>\n",
       "    </tr>\n",
       "    <tr>\n",
       "      <td>1</td>\n",
       "      <td>2001-05-04 13:51:00-07:00</td>\n",
       "      <td>phillip.allen@enron.com</td>\n",
       "      <td>[john.lavorato@enron.com]</td>\n",
       "      <td>Traveling to have a business meeting takes the...</td>\n",
       "    </tr>\n",
       "    <tr>\n",
       "      <td>2</td>\n",
       "      <td>2000-10-18 03:00:00-07:00</td>\n",
       "      <td>phillip.allen@enron.com</td>\n",
       "      <td>[leah.arsdall@enron.com]</td>\n",
       "      <td>test successful.  way to go!!!</td>\n",
       "    </tr>\n",
       "    <tr>\n",
       "      <td>3</td>\n",
       "      <td>2000-10-23 06:13:00-07:00</td>\n",
       "      <td>phillip.allen@enron.com</td>\n",
       "      <td>[randall.gay@enron.com]</td>\n",
       "      <td>Randy,\\n\\n Can you send me a schedule of the s...</td>\n",
       "    </tr>\n",
       "    <tr>\n",
       "      <td>4</td>\n",
       "      <td>2000-08-31 05:07:00-07:00</td>\n",
       "      <td>phillip.allen@enron.com</td>\n",
       "      <td>[greg.piper@enron.com]</td>\n",
       "      <td>Let's shoot for Tuesday at 11:45.</td>\n",
       "    </tr>\n",
       "  </tbody>\n",
       "</table>\n",
       "</div>"
      ],
      "text/plain": [
       "                        Date                     From  \\\n",
       "0  2001-05-14 16:39:00-07:00  phillip.allen@enron.com   \n",
       "1  2001-05-04 13:51:00-07:00  phillip.allen@enron.com   \n",
       "2  2000-10-18 03:00:00-07:00  phillip.allen@enron.com   \n",
       "3  2000-10-23 06:13:00-07:00  phillip.allen@enron.com   \n",
       "4  2000-08-31 05:07:00-07:00  phillip.allen@enron.com   \n",
       "\n",
       "                          To  \\\n",
       "0     [tim.belden@enron.com]   \n",
       "1  [john.lavorato@enron.com]   \n",
       "2   [leah.arsdall@enron.com]   \n",
       "3    [randall.gay@enron.com]   \n",
       "4     [greg.piper@enron.com]   \n",
       "\n",
       "                                             content  \n",
       "0                          Here is our forecast\\n\\n   \n",
       "1  Traveling to have a business meeting takes the...  \n",
       "2                     test successful.  way to go!!!  \n",
       "3  Randy,\\n\\n Can you send me a schedule of the s...  \n",
       "4                Let's shoot for Tuesday at 11:45.    "
      ]
     },
     "execution_count": 27,
     "metadata": {},
     "output_type": "execute_result"
    }
   ],
   "source": [
    "df.head()"
   ]
  },
  {
   "cell_type": "code",
   "execution_count": 6,
   "metadata": {},
   "outputs": [
    {
     "data": {
      "text/plain": [
       "141256"
      ]
     },
     "execution_count": 6,
     "metadata": {},
     "output_type": "execute_result"
    }
   ],
   "source": [
    "len(df[df['To'].str.len() > 1])"
   ]
  },
  {
   "cell_type": "code",
   "execution_count": 7,
   "metadata": {},
   "outputs": [
    {
     "data": {
      "text/plain": [
       "Date                               2000-09-18 02:34:00-07:00\n",
       "From                                 phillip.allen@enron.com\n",
       "To                                     [jsmith@austintx.com]\n",
       "content    Jeff,\\n\\n I need to see the site plan for Burn...\n",
       "Name: 44, dtype: object"
      ]
     },
     "execution_count": 7,
     "metadata": {},
     "output_type": "execute_result"
    }
   ],
   "source": [
    "df.iloc[44]"
   ]
  },
  {
   "cell_type": "code",
   "execution_count": 8,
   "metadata": {},
   "outputs": [
    {
     "data": {
      "text/plain": [
       "20328"
      ]
     },
     "execution_count": 8,
     "metadata": {},
     "output_type": "execute_result"
    }
   ],
   "source": [
    "len(df['From'].unique())"
   ]
  },
  {
   "cell_type": "code",
   "execution_count": 9,
   "metadata": {},
   "outputs": [],
   "source": [
    "##group by date and count and graph, unique senders and receivers, \n"
   ]
  },
  {
   "cell_type": "code",
   "execution_count": 10,
   "metadata": {},
   "outputs": [
    {
     "data": {
      "text/html": [
       "<div>\n",
       "<style scoped>\n",
       "    .dataframe tbody tr th:only-of-type {\n",
       "        vertical-align: middle;\n",
       "    }\n",
       "\n",
       "    .dataframe tbody tr th {\n",
       "        vertical-align: top;\n",
       "    }\n",
       "\n",
       "    .dataframe thead th {\n",
       "        text-align: right;\n",
       "    }\n",
       "</style>\n",
       "<table border=\"1\" class=\"dataframe\">\n",
       "  <thead>\n",
       "    <tr style=\"text-align: right;\">\n",
       "      <th></th>\n",
       "      <th>Date</th>\n",
       "      <th>From</th>\n",
       "      <th>To</th>\n",
       "      <th>content</th>\n",
       "    </tr>\n",
       "  </thead>\n",
       "  <tbody>\n",
       "    <tr>\n",
       "      <td>0</td>\n",
       "      <td>2001-05-14 16:39:00-07:00</td>\n",
       "      <td>phillip.allen@enron.com</td>\n",
       "      <td>[tim.belden@enron.com]</td>\n",
       "      <td>Here is our forecast\\n\\n</td>\n",
       "    </tr>\n",
       "    <tr>\n",
       "      <td>1</td>\n",
       "      <td>2001-05-04 13:51:00-07:00</td>\n",
       "      <td>phillip.allen@enron.com</td>\n",
       "      <td>[john.lavorato@enron.com]</td>\n",
       "      <td>Traveling to have a business meeting takes the...</td>\n",
       "    </tr>\n",
       "    <tr>\n",
       "      <td>2</td>\n",
       "      <td>2000-10-18 03:00:00-07:00</td>\n",
       "      <td>phillip.allen@enron.com</td>\n",
       "      <td>[leah.arsdall@enron.com]</td>\n",
       "      <td>test successful.  way to go!!!</td>\n",
       "    </tr>\n",
       "    <tr>\n",
       "      <td>3</td>\n",
       "      <td>2000-10-23 06:13:00-07:00</td>\n",
       "      <td>phillip.allen@enron.com</td>\n",
       "      <td>[randall.gay@enron.com]</td>\n",
       "      <td>Randy,\\n\\n Can you send me a schedule of the s...</td>\n",
       "    </tr>\n",
       "    <tr>\n",
       "      <td>4</td>\n",
       "      <td>2000-08-31 05:07:00-07:00</td>\n",
       "      <td>phillip.allen@enron.com</td>\n",
       "      <td>[greg.piper@enron.com]</td>\n",
       "      <td>Let's shoot for Tuesday at 11:45.</td>\n",
       "    </tr>\n",
       "  </tbody>\n",
       "</table>\n",
       "</div>"
      ],
      "text/plain": [
       "                        Date                     From  \\\n",
       "0  2001-05-14 16:39:00-07:00  phillip.allen@enron.com   \n",
       "1  2001-05-04 13:51:00-07:00  phillip.allen@enron.com   \n",
       "2  2000-10-18 03:00:00-07:00  phillip.allen@enron.com   \n",
       "3  2000-10-23 06:13:00-07:00  phillip.allen@enron.com   \n",
       "4  2000-08-31 05:07:00-07:00  phillip.allen@enron.com   \n",
       "\n",
       "                          To  \\\n",
       "0     [tim.belden@enron.com]   \n",
       "1  [john.lavorato@enron.com]   \n",
       "2   [leah.arsdall@enron.com]   \n",
       "3    [randall.gay@enron.com]   \n",
       "4     [greg.piper@enron.com]   \n",
       "\n",
       "                                             content  \n",
       "0                          Here is our forecast\\n\\n   \n",
       "1  Traveling to have a business meeting takes the...  \n",
       "2                     test successful.  way to go!!!  \n",
       "3  Randy,\\n\\n Can you send me a schedule of the s...  \n",
       "4                Let's shoot for Tuesday at 11:45.    "
      ]
     },
     "execution_count": 10,
     "metadata": {},
     "output_type": "execute_result"
    }
   ],
   "source": [
    "df.head()"
   ]
  },
  {
   "cell_type": "code",
   "execution_count": 11,
   "metadata": {},
   "outputs": [
    {
     "data": {
      "text/html": [
       "<div>\n",
       "<style scoped>\n",
       "    .dataframe tbody tr th:only-of-type {\n",
       "        vertical-align: middle;\n",
       "    }\n",
       "\n",
       "    .dataframe tbody tr th {\n",
       "        vertical-align: top;\n",
       "    }\n",
       "\n",
       "    .dataframe thead th {\n",
       "        text-align: right;\n",
       "    }\n",
       "</style>\n",
       "<table border=\"1\" class=\"dataframe\">\n",
       "  <thead>\n",
       "    <tr style=\"text-align: right;\">\n",
       "      <th></th>\n",
       "      <th>Date</th>\n",
       "      <th>To</th>\n",
       "      <th>content</th>\n",
       "    </tr>\n",
       "    <tr>\n",
       "      <th>From</th>\n",
       "      <th></th>\n",
       "      <th></th>\n",
       "      <th></th>\n",
       "    </tr>\n",
       "  </thead>\n",
       "  <tbody>\n",
       "    <tr>\n",
       "      <td>kay.mann@enron.com</td>\n",
       "      <td>16735</td>\n",
       "      <td>16721</td>\n",
       "      <td>16735</td>\n",
       "    </tr>\n",
       "    <tr>\n",
       "      <td>vince.kaminski@enron.com</td>\n",
       "      <td>14368</td>\n",
       "      <td>14329</td>\n",
       "      <td>14368</td>\n",
       "    </tr>\n",
       "    <tr>\n",
       "      <td>jeff.dasovich@enron.com</td>\n",
       "      <td>11411</td>\n",
       "      <td>11387</td>\n",
       "      <td>11411</td>\n",
       "    </tr>\n",
       "    <tr>\n",
       "      <td>pete.davis@enron.com</td>\n",
       "      <td>9149</td>\n",
       "      <td>9149</td>\n",
       "      <td>9149</td>\n",
       "    </tr>\n",
       "    <tr>\n",
       "      <td>chris.germany@enron.com</td>\n",
       "      <td>8801</td>\n",
       "      <td>8745</td>\n",
       "      <td>8801</td>\n",
       "    </tr>\n",
       "    <tr>\n",
       "      <td>sara.shackleton@enron.com</td>\n",
       "      <td>8777</td>\n",
       "      <td>8757</td>\n",
       "      <td>8777</td>\n",
       "    </tr>\n",
       "    <tr>\n",
       "      <td>enron.announcements@enron.com</td>\n",
       "      <td>8587</td>\n",
       "      <td>8577</td>\n",
       "      <td>8587</td>\n",
       "    </tr>\n",
       "    <tr>\n",
       "      <td>tana.jones@enron.com</td>\n",
       "      <td>8490</td>\n",
       "      <td>8447</td>\n",
       "      <td>8490</td>\n",
       "    </tr>\n",
       "    <tr>\n",
       "      <td>steven.kean@enron.com</td>\n",
       "      <td>6759</td>\n",
       "      <td>6220</td>\n",
       "      <td>6759</td>\n",
       "    </tr>\n",
       "    <tr>\n",
       "      <td>kate.symes@enron.com</td>\n",
       "      <td>5438</td>\n",
       "      <td>5435</td>\n",
       "      <td>5438</td>\n",
       "    </tr>\n",
       "    <tr>\n",
       "      <td>matthew.lenhart@enron.com</td>\n",
       "      <td>5265</td>\n",
       "      <td>5256</td>\n",
       "      <td>5265</td>\n",
       "    </tr>\n",
       "    <tr>\n",
       "      <td>eric.bass@enron.com</td>\n",
       "      <td>5158</td>\n",
       "      <td>5154</td>\n",
       "      <td>5158</td>\n",
       "    </tr>\n",
       "    <tr>\n",
       "      <td>no.address@enron.com</td>\n",
       "      <td>5112</td>\n",
       "      <td>270</td>\n",
       "      <td>5112</td>\n",
       "    </tr>\n",
       "    <tr>\n",
       "      <td>debra.perlingiere@enron.com</td>\n",
       "      <td>4387</td>\n",
       "      <td>4355</td>\n",
       "      <td>4387</td>\n",
       "    </tr>\n",
       "    <tr>\n",
       "      <td>sally.beck@enron.com</td>\n",
       "      <td>4343</td>\n",
       "      <td>4334</td>\n",
       "      <td>4343</td>\n",
       "    </tr>\n",
       "    <tr>\n",
       "      <td>mark.taylor@enron.com</td>\n",
       "      <td>4111</td>\n",
       "      <td>4078</td>\n",
       "      <td>4111</td>\n",
       "    </tr>\n",
       "    <tr>\n",
       "      <td>susan.scott@enron.com</td>\n",
       "      <td>4000</td>\n",
       "      <td>3902</td>\n",
       "      <td>4000</td>\n",
       "    </tr>\n",
       "    <tr>\n",
       "      <td>gerald.nemec@enron.com</td>\n",
       "      <td>3888</td>\n",
       "      <td>3868</td>\n",
       "      <td>3888</td>\n",
       "    </tr>\n",
       "    <tr>\n",
       "      <td>drew.fossum@enron.com</td>\n",
       "      <td>3706</td>\n",
       "      <td>3693</td>\n",
       "      <td>3706</td>\n",
       "    </tr>\n",
       "    <tr>\n",
       "      <td>john.arnold@enron.com</td>\n",
       "      <td>3578</td>\n",
       "      <td>3568</td>\n",
       "      <td>3578</td>\n",
       "    </tr>\n",
       "    <tr>\n",
       "      <td>carol.clair@enron.com</td>\n",
       "      <td>3564</td>\n",
       "      <td>3544</td>\n",
       "      <td>3564</td>\n",
       "    </tr>\n",
       "    <tr>\n",
       "      <td>benjamin.rogers@enron.com</td>\n",
       "      <td>3427</td>\n",
       "      <td>3407</td>\n",
       "      <td>3427</td>\n",
       "    </tr>\n",
       "    <tr>\n",
       "      <td>richard.sanders@enron.com</td>\n",
       "      <td>3262</td>\n",
       "      <td>3210</td>\n",
       "      <td>3262</td>\n",
       "    </tr>\n",
       "    <tr>\n",
       "      <td>phillip.love@enron.com</td>\n",
       "      <td>3112</td>\n",
       "      <td>3107</td>\n",
       "      <td>3112</td>\n",
       "    </tr>\n",
       "    <tr>\n",
       "      <td>david.delainey@enron.com</td>\n",
       "      <td>3069</td>\n",
       "      <td>3050</td>\n",
       "      <td>3069</td>\n",
       "    </tr>\n",
       "  </tbody>\n",
       "</table>\n",
       "</div>"
      ],
      "text/plain": [
       "                                Date     To  content\n",
       "From                                                \n",
       "kay.mann@enron.com             16735  16721    16735\n",
       "vince.kaminski@enron.com       14368  14329    14368\n",
       "jeff.dasovich@enron.com        11411  11387    11411\n",
       "pete.davis@enron.com            9149   9149     9149\n",
       "chris.germany@enron.com         8801   8745     8801\n",
       "sara.shackleton@enron.com       8777   8757     8777\n",
       "enron.announcements@enron.com   8587   8577     8587\n",
       "tana.jones@enron.com            8490   8447     8490\n",
       "steven.kean@enron.com           6759   6220     6759\n",
       "kate.symes@enron.com            5438   5435     5438\n",
       "matthew.lenhart@enron.com       5265   5256     5265\n",
       "eric.bass@enron.com             5158   5154     5158\n",
       "no.address@enron.com            5112    270     5112\n",
       "debra.perlingiere@enron.com     4387   4355     4387\n",
       "sally.beck@enron.com            4343   4334     4343\n",
       "mark.taylor@enron.com           4111   4078     4111\n",
       "susan.scott@enron.com           4000   3902     4000\n",
       "gerald.nemec@enron.com          3888   3868     3888\n",
       "drew.fossum@enron.com           3706   3693     3706\n",
       "john.arnold@enron.com           3578   3568     3578\n",
       "carol.clair@enron.com           3564   3544     3564\n",
       "benjamin.rogers@enron.com       3427   3407     3427\n",
       "richard.sanders@enron.com       3262   3210     3262\n",
       "phillip.love@enron.com          3112   3107     3112\n",
       "david.delainey@enron.com        3069   3050     3069"
      ]
     },
     "execution_count": 11,
     "metadata": {},
     "output_type": "execute_result"
    }
   ],
   "source": [
    "df.groupby('From').count().sort_values(['content'], ascending=False).head(25)"
   ]
  },
  {
   "cell_type": "code",
   "execution_count": 11,
   "metadata": {
    "scrolled": true
   },
   "outputs": [],
   "source": [
    "# Just need to run this block the first time, to create the sequences files, later is easier to read the file\n",
    "#sequences = list(map(clean_body,df['content']))\n",
    "#write_sequence_file(sequences, '../data/sequences.txt')"
   ]
  },
  {
   "cell_type": "code",
   "execution_count": 12,
   "metadata": {},
   "outputs": [],
   "source": [
    "lines = load_sequences('../data/sequences.txt')"
   ]
  },
  {
   "cell_type": "code",
   "execution_count": 13,
   "metadata": {},
   "outputs": [
    {
     "data": {
      "text/plain": [
       "6142474"
      ]
     },
     "execution_count": 13,
     "metadata": {},
     "output_type": "execute_result"
    }
   ],
   "source": [
    "len(lines)"
   ]
  },
  {
   "cell_type": "code",
   "execution_count": 14,
   "metadata": {},
   "outputs": [],
   "source": [
    "c = Counter(lines)"
   ]
  },
  {
   "cell_type": "code",
   "execution_count": 15,
   "metadata": {
    "scrolled": true
   },
   "outputs": [
    {
     "data": {
      "text/plain": [
       "[('thank you', 20099),\n",
       " ('unknown database', 8146),\n",
       " ('start date hourahead hour no ancillary schedules awarded', 7368),\n",
       " ('an error occurred while attempting to initialize the borland database engine error',\n",
       "  7361),\n",
       " ('dow jones company inc all rights reserved', 6699),\n",
       " ('any review use distribution or disclosure by others is strictly prohibited',\n",
       "  5044),\n",
       " ('this email and any attachments hereto are not intended to be an offer or an acceptance and do not create or evidence a binding and enforceable contract between enron corp or any of its affiliates and the intended recipient or any other party and may not be relied on by anyone as the basis of a contract by estoppel or otherwise',\n",
       "  4797),\n",
       " ('if you are not the intended recipient or authorized to receive for the recipient please contact the sender or reply to enron corp at enronmessagingadministrationenroncom and delete all copies of the message',\n",
       "  4793),\n",
       " ('no variances detected', 4570),\n",
       " ('insufficient memory for this operation', 4554),\n",
       " ('all rights reserved', 4175),\n",
       " ('log messages parsing file oportlandwestdeskcalifornia schedulingiso final',\n",
       "  3441),\n",
       " ('best jeff', 3357),\n",
       " ('thanks for your help', 3302),\n",
       " ('let me know', 2947),\n",
       " ('variances detected', 2831),\n",
       " ('thanks kay', 2795),\n",
       " ('copyright dow jones company inc all rights reserved', 2694),\n",
       " ('let me know if you have any questions', 2628),\n",
       " ('alias error cannot perform this operation on a closed database', 2261)]"
      ]
     },
     "execution_count": 15,
     "metadata": {},
     "output_type": "execute_result"
    }
   ],
   "source": [
    "c.most_common(20)"
   ]
  },
  {
   "cell_type": "code",
   "execution_count": 16,
   "metadata": {},
   "outputs": [],
   "source": [
    "import itertools\n",
    "words = list(itertools.chain.from_iterable(map(lambda s: s.split(), lines)))"
   ]
  },
  {
   "cell_type": "code",
   "execution_count": 17,
   "metadata": {},
   "outputs": [
    {
     "data": {
      "text/plain": [
       "123109401"
      ]
     },
     "execution_count": 17,
     "metadata": {},
     "output_type": "execute_result"
    }
   ],
   "source": [
    "len(words)"
   ]
  },
  {
   "cell_type": "code",
   "execution_count": 28,
   "metadata": {},
   "outputs": [],
   "source": [
    "word_counter = Counter(words)"
   ]
  },
  {
   "cell_type": "code",
   "execution_count": 19,
   "metadata": {},
   "outputs": [
    {
     "data": {
      "text/plain": [
       "[('the', 5617685),\n",
       " ('to', 3976502),\n",
       " ('and', 2520080),\n",
       " ('of', 2335657),\n",
       " ('a', 1931938),\n",
       " ('in', 1716463),\n",
       " ('for', 1437250),\n",
       " ('on', 1223571),\n",
       " ('is', 1212818),\n",
       " ('you', 1137126),\n",
       " ('that', 1068691),\n",
       " ('i', 977987),\n",
       " ('this', 898987),\n",
       " ('be', 839728),\n",
       " ('with', 759894),\n",
       " ('will', 733864),\n",
       " ('from', 730938),\n",
       " ('at', 695209),\n",
       " ('have', 693625),\n",
       " ('by', 676598),\n",
       " ('we', 670702),\n",
       " ('are', 648228),\n",
       " ('it', 625983),\n",
       " ('as', 619605),\n",
       " ('or', 575258),\n",
       " ('not', 491463),\n",
       " ('if', 489733),\n",
       " ('enron', 477405),\n",
       " ('your', 472971),\n",
       " ('subject', 441147),\n",
       " ('pm', 401565),\n",
       " ('am', 392934),\n",
       " ('please', 386450),\n",
       " ('an', 371415),\n",
       " ('has', 346177),\n",
       " ('would', 329552),\n",
       " ('any', 322636),\n",
       " ('was', 313854),\n",
       " ('email', 311225),\n",
       " ('all', 310151),\n",
       " ('power', 298487),\n",
       " ('cc', 297402),\n",
       " ('me', 294314),\n",
       " ('our', 293512),\n",
       " ('energy', 274889),\n",
       " ('can', 274779),\n",
       " ('its', 272554),\n",
       " ('new', 271664),\n",
       " ('but', 269710),\n",
       " ('he', 241828)]"
      ]
     },
     "execution_count": 19,
     "metadata": {},
     "output_type": "execute_result"
    }
   ],
   "source": [
    "word_counter.most_common(50)"
   ]
  },
  {
   "cell_type": "code",
   "execution_count": 29,
   "metadata": {},
   "outputs": [
    {
     "data": {
      "text/plain": [
       "523492"
      ]
     },
     "execution_count": 29,
     "metadata": {},
     "output_type": "execute_result"
    }
   ],
   "source": [
    "len(word_counter)"
   ]
  },
  {
   "cell_type": "code",
   "execution_count": 20,
   "metadata": {},
   "outputs": [],
   "source": [
    "from nltk.corpus import stopwords\n"
   ]
  },
  {
   "cell_type": "code",
   "execution_count": 23,
   "metadata": {},
   "outputs": [],
   "source": [
    "for sword in stopwords.words('english'):\n",
    "    del word_counter[sword]"
   ]
  },
  {
   "cell_type": "code",
   "execution_count": 24,
   "metadata": {},
   "outputs": [
    {
     "data": {
      "text/plain": [
       "[('enron', 477405),\n",
       " ('subject', 441147),\n",
       " ('pm', 401565),\n",
       " ('please', 386450),\n",
       " ('would', 329552),\n",
       " ('email', 311225),\n",
       " ('power', 298487),\n",
       " ('cc', 297402),\n",
       " ('energy', 274889),\n",
       " ('new', 271664),\n",
       " ('said', 240725),\n",
       " ('message', 239300),\n",
       " ('may', 232706),\n",
       " ('sent', 207602),\n",
       " ('gas', 202954),\n",
       " ('time', 200730),\n",
       " ('know', 200167),\n",
       " ('us', 193957),\n",
       " ('company', 183598),\n",
       " ('information', 178551),\n",
       " ('also', 176896),\n",
       " ('one', 176129),\n",
       " ('get', 173374),\n",
       " ('original', 170222),\n",
       " ('market', 168931),\n",
       " ('need', 158351),\n",
       " ('thanks', 147639),\n",
       " ('call', 145698),\n",
       " ('forwarded', 145652),\n",
       " ('like', 140659),\n",
       " ('california', 138205),\n",
       " ('business', 137381),\n",
       " ('could', 129205),\n",
       " ('see', 127969),\n",
       " ('let', 127063),\n",
       " ('price', 123038),\n",
       " ('week', 122210),\n",
       " ('last', 121933),\n",
       " ('attached', 121256),\n",
       " ('state', 119545),\n",
       " ('day', 113644),\n",
       " ('corp', 111780),\n",
       " ('agreement', 110350),\n",
       " ('meeting', 110080),\n",
       " ('john', 109652),\n",
       " ('houston', 109464),\n",
       " ('deal', 107103),\n",
       " ('mark', 106145),\n",
       " ('make', 105106),\n",
       " ('year', 104394)]"
      ]
     },
     "execution_count": 24,
     "metadata": {},
     "output_type": "execute_result"
    }
   ],
   "source": [
    "word_counter.most_common(50)"
   ]
  },
  {
   "cell_type": "code",
   "execution_count": 4,
   "metadata": {},
   "outputs": [
    {
     "data": {
      "text/plain": [
       "16735"
      ]
     },
     "execution_count": 4,
     "metadata": {},
     "output_type": "execute_result"
    }
   ],
   "source": [
    "len(df_kay)"
   ]
  },
  {
   "cell_type": "code",
   "execution_count": 5,
   "metadata": {},
   "outputs": [],
   "source": [
    "sequences_kay = list(map(clean_body,df_kay['content']))\n",
    "write_sequence_file(sequences_kay, '../data/sequences_kay.txt')"
   ]
  },
  {
   "cell_type": "code",
   "execution_count": 9,
   "metadata": {},
   "outputs": [
    {
     "data": {
      "text/plain": [
       "5158"
      ]
     },
     "execution_count": 9,
     "metadata": {},
     "output_type": "execute_result"
    }
   ],
   "source": [
    "len(df_pete)"
   ]
  },
  {
   "cell_type": "code",
   "execution_count": null,
   "metadata": {},
   "outputs": [],
   "source": []
  }
 ],
 "metadata": {
  "kernelspec": {
   "display_name": "Python 3",
   "language": "python",
   "name": "python3"
  },
  "language_info": {
   "codemirror_mode": {
    "name": "ipython",
    "version": 3
   },
   "file_extension": ".py",
   "mimetype": "text/x-python",
   "name": "python",
   "nbconvert_exporter": "python",
   "pygments_lexer": "ipython3",
   "version": "3.7.4"
  }
 },
 "nbformat": 4,
 "nbformat_minor": 2
}
