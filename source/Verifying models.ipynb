{
 "cells": [
  {
   "cell_type": "code",
   "execution_count": 1,
   "metadata": {},
   "outputs": [
    {
     "name": "stderr",
     "output_type": "stream",
     "text": [
      "Using TensorFlow backend.\n"
     ]
    }
   ],
   "source": [
    "from pickle import load\n",
    "from keras.models import load_model\n",
    "from load_data import *\n",
    "from model_test import *"
   ]
  },
  {
   "cell_type": "code",
   "execution_count": 2,
   "metadata": {},
   "outputs": [
    {
     "name": "stderr",
     "output_type": "stream",
     "text": [
      "C:\\ProgramData\\Anaconda3\\lib\\site-packages\\tensorflow_core\\python\\framework\\indexed_slices.py:433: UserWarning: Converting sparse IndexedSlices to a dense Tensor of unknown shape. This may consume a large amount of memory.\n",
      "  \"Converting sparse IndexedSlices to a dense Tensor of unknown shape. \"\n"
     ]
    }
   ],
   "source": [
    "# load the model and tokenizer\n",
    "model = load_model('../models/model_david.h5')\n",
    "tokenizer = load(open('../models/tokenizer_david.pkl', 'rb'))"
   ]
  },
  {
   "cell_type": "code",
   "execution_count": 3,
   "metadata": {},
   "outputs": [],
   "source": [
    "sequences = load_sequences('../data/sequences_david.txt')"
   ]
  },
  {
   "cell_type": "code",
   "execution_count": 4,
   "metadata": {},
   "outputs": [
    {
     "name": "stdout",
     "output_type": "stream",
     "text": [
      "thanks charlene david w delaineyect pm to charlene jacksoncorpenronenron cc subject re participation in super saturday charlene that will be fine on a different note where are you on the straw man we spoke about\n",
      "Predicted last 1 words: about\n",
      "as soon as tammy and i set up the protection on the master turbine schedule i will send you its location\n",
      "Predicted last 1 words: place\n",
      "rob independent of dottedsolid lines you already have the primary and complete responsibility to manage the office and the business\n",
      "Predicted last 1 words: business\n",
      "if this payment was capitalized for some reason after west power trading expensed it then im not sure what to do\n",
      "Predicted last 1 words: origination\n",
      "it may also be interesting for you to give an initial cut on the economics of coal generation including emissions control given current power and gas markets and a quick view of the development process\n",
      "Predicted last 1 words: project\n"
     ]
    }
   ],
   "source": [
    "# number of randome sequences to complete\n",
    "cases = 5\n",
    "#number of words to be completed\n",
    "n_words= 1\n",
    "predict_sequences(model,tokenizer, sequences, cases, n_words)"
   ]
  },
  {
   "cell_type": "code",
   "execution_count": 5,
   "metadata": {},
   "outputs": [
    {
     "name": "stdout",
     "output_type": "stream",
     "text": [
      "in my meeting with randy zwirn yesterday randy suggested that i meet with him in an attempt to come to a global settlement on all the enron disputes\n",
      "Predicted last 2 words: product disputes\n",
      "the total amount of relief that these curtailments are intended to produce are not posted\n",
      "Predicted last 2 words: attend otherwise\n",
      "either way they will be a strong bid for assets given their story to wall street\n",
      "Predicted last 2 words: delay street\n",
      "you will get paid based on this point forward\n",
      "Predicted last 5 words: copy asap know you thoughts\n",
      "once all this has been confirmed and everyone has agreed you should make a decision to either redeploy him to another area or offer him a severence package\n",
      "Predicted last 5 words: amounts developments fyi immediately immediately\n",
      "obviously much of the technical engineering work would and should be done by the engineering team put together in the industrial services group should a deal be struck\n",
      "Predicted last 5 words: beginning prepare fyi conjunction conversation\n",
      "the goal of the reorganization is to create a flat team oriented organizati that is very market and commercially focused\n",
      "Predicted last 10 words: well in team time time meeting origination sites efforts sites\n",
      "for the friday night speaker can you give me an idea of price and availability for the following joe gibbs lou holtz mike krzynewski joe paterno james carville the topic would be leadership and motivation\n",
      "Predicted last 10 words: ours trueups values types hurricane solution dp procedure problems transfer\n",
      "fyi regards delainey forwarded by david w delaineyhouect on am david w delainey am to ojzeringuetvagov cc subject various ike given our schedules it appears that email may be the most effective communication tool\n",
      "Predicted last 10 words: cornell lds us years customers eecc ratepayers debt america schedule\n"
     ]
    }
   ],
   "source": [
    "cases = 3\n",
    "n_words= 2\n",
    "predict_sequences(model,tokenizer, sequences, cases, n_words)\n",
    "n_words= 5\n",
    "predict_sequences(model,tokenizer, sequences, cases, n_words)\n",
    "n_words= 10\n",
    "predict_sequences(model,tokenizer, sequences, cases, n_words)"
   ]
  },
  {
   "cell_type": "code",
   "execution_count": 8,
   "metadata": {},
   "outputs": [
    {
     "name": "stdout",
     "output_type": "stream",
     "text": [
      "bye and thanks for your\n",
      "cooperation\n",
      "cooperation questions\n",
      "the purpose of this\n",
      "expense\n",
      "expense these\n",
      "i just want to\n",
      "note\n",
      "note lot\n",
      "in regard to our last\n",
      "week\n",
      "week segment\n",
      "when would you\n",
      "regards\n",
      "regards delainey\n"
     ]
    }
   ],
   "source": [
    "examples = ['bye and thanks for your', 'the purpose of this', 'i just want to', 'in regard to our last', 'when would you']\n",
    "for text in examples:\n",
    "    print(text)\n",
    "    predict_text(model,tokenizer,text,639,1)\n",
    "    predict_text(model,tokenizer,text,639,2)\n"
   ]
  },
  {
   "cell_type": "code",
   "execution_count": null,
   "metadata": {},
   "outputs": [],
   "source": []
  }
 ],
 "metadata": {
  "kernelspec": {
   "display_name": "Python 3",
   "language": "python",
   "name": "python3"
  },
  "language_info": {
   "codemirror_mode": {
    "name": "ipython",
    "version": 3
   },
   "file_extension": ".py",
   "mimetype": "text/x-python",
   "name": "python",
   "nbconvert_exporter": "python",
   "pygments_lexer": "ipython3",
   "version": "3.7.4"
  }
 },
 "nbformat": 4,
 "nbformat_minor": 2
}
